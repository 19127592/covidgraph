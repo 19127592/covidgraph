{
 "cells": [
  {
   "cell_type": "code",
   "execution_count": 21,
   "metadata": {},
   "outputs": [],
   "source": [
    "import requests_cache\n",
    "\n",
    "import pandas as pd\n",
    "from selenium import webdriver\n",
    "from webdriver_manager.chrome import ChromeDriverManager\n",
    "from selenium.webdriver.common.by import By\n",
    "from datetime import date, timedelta\n",
    "import os\n",
    "import time\n",
    "from datetime import datetime\n",
    "from dateutil import parser\n",
    "from datetime import datetime\n",
    "\n",
    "import plotly.graph_objects as go\n",
    "import plotly.express as px\n",
    "import plotly.io as pio\n",
    "from plotly.subplots import make_subplots"
   ]
  },
  {
   "cell_type": "code",
   "execution_count": 7,
   "metadata": {},
   "outputs": [
    {
     "name": "stderr",
     "output_type": "stream",
     "text": [
      "\n",
      "\n",
      "====== WebDriver manager ======\n",
      "Current google-chrome version is 97.0.4692\n",
      "Get LATEST chromedriver version for 97.0.4692 google-chrome\n",
      "Driver [C:\\Users\\MyPC\\.wdm\\drivers\\chromedriver\\win32\\97.0.4692.71\\chromedriver.exe] found in cache\n",
      "C:\\Users\\MyPC\\AppData\\Local\\Temp/ipykernel_8396/3689447328.py:2: DeprecationWarning: executable_path has been deprecated, please pass in a Service object\n",
      "  driver = webdriver.Chrome(ChromeDriverManager().install())\n"
     ]
    }
   ],
   "source": [
    "requests_cache.install_cache('demo_cache',expire_after=None,allowable_methods=['GET'])\n",
    "driver = webdriver.Chrome(ChromeDriverManager().install())"
   ]
  },
  {
   "cell_type": "code",
   "execution_count": 8,
   "metadata": {},
   "outputs": [],
   "source": [
    "link = \"https://www.worldometers.info/coronavirus/\"\n",
    "driver.get(link)"
   ]
  },
  {
   "cell_type": "code",
   "execution_count": 9,
   "metadata": {},
   "outputs": [],
   "source": [
    "def split_list(a_list):\n",
    "    #The number of countries is steady\n",
    "    return a_list[:226], a_list[226:]"
   ]
  },
  {
   "cell_type": "code",
   "execution_count": 10,
   "metadata": {},
   "outputs": [],
   "source": [
    "row_world = driver.find_elements(By.XPATH,\"//tr[@class='total_row_world odd']\")\n",
    "row_total = driver.find_elements(By.XPATH,\"//tr[@class='even'] | //tr[@class='odd']\")\n",
    "\n",
    "rows_today = []\n",
    "rows_past = []\n",
    "rows_past_modify = []\n",
    "rows_yesterday = []\n",
    "rows_two_days_ago = []\n",
    "count = 0\n",
    "row_count = 224\n",
    "\n",
    "for n in row_total:\n",
    "    n = n.get_attribute('innerText')\n",
    "    if count == row_count:\n",
    "        rows_past.append(n.split(\"\\n\"))\n",
    "    else:\n",
    "        rows_today.append(n.split(\"\\t\"))\n",
    "        count+=1\n",
    "\n",
    "for n in rows_past:\n",
    "    n.pop(0)\n",
    "    n = n[: len(n) - 6]\n",
    "    rows_past_modify.append(n)\n",
    "\n",
    "rows_yesterday,rows_two_days_ago = split_list(rows_past_modify)\n",
    "rows_yesterday.pop(0)\n",
    "\n",
    "#Get date\n",
    "today = date.today()\n",
    "yesterday = (today - timedelta(1)).strftime(\"%d-%m-%Y\")\n",
    "two_days_ago = (today - timedelta(2)).strftime(\"%d-%m-%Y\")\n",
    "now = datetime.now()\n",
    "cur_time = int(now.strftime('%H'))\n",
    "#Add date to df\n",
    "for row in rows_yesterday:\n",
    "    row.insert(1,yesterday)\n",
    "for row in rows_two_days_ago:\n",
    "    row.insert(1,two_days_ago)\n",
    "\n",
    "covid_data = rows_two_days_ago + rows_yesterday\n",
    "\n",
    "for i in covid_data:\n",
    "    if len(i) != len(header_by_day):\n",
    "        print(\"Error Header in #\",i[0],i[2])\n",
    "        print(\"Trying to fix...\")\n",
    "        time.sleep(5)\n",
    "        i.pop(-1)"
   ]
  },
  {
   "cell_type": "code",
   "execution_count": 11,
   "metadata": {},
   "outputs": [],
   "source": [
    "header_by_day = [\"#\",\"Date\",\"Country,Other\",\"TotalCases\",\"NewCases\",\"TotalDeaths\",\"NewDeaths\",\"TotalRecovered\",\"NewRecovered\",\n",
    "\"ActiveCases\",\"Serious,Critical\",\"Tot Cases/1M pop\",\"Deaths/1M pop\",\"TotalTests\",\"Tests/1M pop\",\"Population\",\"Continent\"]\n",
    "\n",
    "header_by_week = [\"#\", \"Country,Other\", \"Cases in the last 7 days\", \"Cases in the preceding 7 days\", \n",
    "\"Weekly case /%/ change\", \"Cases in the last 7 days/1M pop\", \"Deaths in the last 7 days\", \n",
    "\"Deaths in the preceding 7 days\", \"Weekly Death /%/ change\", \"Deaths in the last 7 days/1M pop\", \"Population\", \"Continent\"]"
   ]
  },
  {
   "cell_type": "code",
   "execution_count": 24,
   "metadata": {},
   "outputs": [],
   "source": [
    "for i in covid_data:\n",
    "    if len(i) != len(header_by_day):\n",
    "        print(\"Error Header in #\",i[0],i[2])\n",
    "        print(\"Trying to fix...\")\n",
    "        time.sleep(5)\n",
    "        i.pop(-1)"
   ]
  },
  {
   "cell_type": "code",
   "execution_count": 25,
   "metadata": {},
   "outputs": [],
   "source": [
    "df_covid = pd.DataFrame(data=rows_yesterday,columns=header_by_day)"
   ]
  },
  {
   "cell_type": "code",
   "execution_count": 25,
   "metadata": {},
   "outputs": [],
   "source": [
    "if not os.path.isfile('covid-data-test/Corona_by_day.tsv'):\n",
    "    df_covid = pd.DataFrame(data=covid_data,columns=header_by_day)\n",
    "    df_covid.to_csv(\"covid-data-test/Corona_by_day.tsv\", sep = \"\\t\", mode = \"a\", index = False)\n",
    "else:\n",
    "    df_covid.to_csv(\"covid-data/Corona_by_day.tsv\", sep = \"\\t\", mode = \"a\", index = False,header=False)"
   ]
  },
  {
   "cell_type": "code",
   "execution_count": 7,
   "metadata": {},
   "outputs": [],
   "source": [
    "link = \"https://www.worldometers.info/coronavirus/weekly-trends/#weekly_table\"\n",
    "driver.get(link)\n",
    "row_total = driver.find_elements(By.XPATH,\"//tr[@class='even'] | //tr[@class='odd']\")"
   ]
  },
  {
   "cell_type": "code",
   "execution_count": 8,
   "metadata": {},
   "outputs": [],
   "source": [
    "for n in row_total:\n",
    "    n = n.get_attribute('textContent').split(\"\\n\")\n",
    "    n[:] = [x.strip() for x in n if x.strip()]\n",
    "    if len(n) != len(header_by_week):\n",
    "        print(\"Error Header in\",n)\n",
    "        "
   ]
  },
  {
   "cell_type": "code",
   "execution_count": 9,
   "metadata": {},
   "outputs": [],
   "source": [
    "row_week_trend = []\n",
    "\n",
    "for n in row_total:\n",
    "    n = n.get_attribute('textContent').split(\"\\n\")\n",
    "    n[:] = [x.strip() for x in n if x.strip()]\n",
    "    row_week_trend.append(n)\n",
    "    #if len(n) != len(header_by_week):\n",
    "        #print(\"Error Header in\",n)"
   ]
  },
  {
   "cell_type": "code",
   "execution_count": 13,
   "metadata": {},
   "outputs": [],
   "source": [
    "df_covid_by_week = pd.DataFrame(data=row_week_trend,columns=header_by_week)"
   ]
  },
  {
   "cell_type": "code",
   "execution_count": 14,
   "metadata": {},
   "outputs": [],
   "source": [
    "df_covid_by_week.to_csv(\"covid-data/Corona_by_week.tsv\", sep = \"\\t\", mode = \"w\", index = False)"
   ]
  }
 ],
 "metadata": {
  "interpreter": {
   "hash": "7d02b7426e692fbbd84b68649eb3859898ba146ffc7adab2b0543bea598da7ad"
  },
  "kernelspec": {
   "display_name": "Python 3.9.5 64-bit",
   "language": "python",
   "name": "python3"
  },
  "language_info": {
   "codemirror_mode": {
    "name": "ipython",
    "version": 3
   },
   "file_extension": ".py",
   "mimetype": "text/x-python",
   "name": "python",
   "nbconvert_exporter": "python",
   "pygments_lexer": "ipython3",
   "version": "3.9.5"
  },
  "orig_nbformat": 4
 },
 "nbformat": 4,
 "nbformat_minor": 2
}
